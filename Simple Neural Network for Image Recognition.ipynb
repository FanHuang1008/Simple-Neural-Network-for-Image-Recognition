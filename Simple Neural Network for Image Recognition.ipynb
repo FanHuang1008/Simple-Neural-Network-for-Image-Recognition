{
 "cells": [
  {
   "cell_type": "code",
   "execution_count": 1,
   "metadata": {},
   "outputs": [],
   "source": [
    "import pandas as pd\n",
    "import numpy as np\n",
    "import scipy.special\n",
    "import matplotlib.pyplot as plt\n",
    "# ensure the plots are inside this notebook\n",
    "%matplotlib inline"
   ]
  },
  {
   "cell_type": "code",
   "execution_count": 2,
   "metadata": {},
   "outputs": [],
   "source": [
    "class neuralNetwork:\n",
    "    # initialize the neural network\n",
    "    def __init__(self, inputnodes, hiddennodes, outputnodes, learningrate):\n",
    "        self.inodes = inputnodes\n",
    "        self.hnodes = hiddennodes\n",
    "        self.onodes = outputnodes\n",
    "        \n",
    "        self.Wih = np.random.normal(0.0, pow(self.inodes, -0.5), (self.hnodes, self.inodes))\n",
    "        self.Who = np.random.normal(0.0, pow(self.hnodes, -0.5), (self.onodes, self.hnodes))\n",
    "        \n",
    "        # learning rate\n",
    "        self.lr = learningrate\n",
    "        \n",
    "        # activation function is the sigmoid function\n",
    "        self.activation_function = lambda x: scipy.special.expit(x)\n",
    "    \n",
    "    \n",
    "    def train(self, inputs_list, targets_list):\n",
    "        # convert list to 2d array\n",
    "        inputs = np.array(inputs_list, ndmin = 2).T\n",
    "        targets = np.array(targets_list, ndmin = 2).T\n",
    "        \n",
    "        # signals into hidden layer\n",
    "        hidden_inputs = np.dot(self.Wih, inputs)\n",
    "        # signals emerging from hidden layer\n",
    "        hidden_outputs = self.activation_function(hidden_inputs)\n",
    "        \n",
    "        # signals into final output layer\n",
    "        final_inputs = np.dot(self.Who, hidden_outputs)\n",
    "        # signals emerging from final output layer\n",
    "        final_outputs = self.activation_function(final_inputs)\n",
    "        \n",
    "        # output layer error = (target - actual)\n",
    "        output_errors = targets - final_outputs\n",
    "        # hidden layer error = output_errors, split by weights, recombined at hidden nodes\n",
    "        hidden_errors = np.dot(self.Who.T, output_errors)\n",
    "        \n",
    "        # update Who\n",
    "        self.Who += self.lr * np.dot((output_errors*final_outputs*(1.0-final_outputs)), np.transpose(hidden_outputs))\n",
    "        \n",
    "        # update Wih\n",
    "        self.Wih += self.lr * np.dot((hidden_errors*hidden_outputs*(1.0-hidden_outputs)), np.transpose(inputs))\n",
    "    \n",
    "    \n",
    "    def query(self, inputs_list):\n",
    "        # convert inputs list to 2d array\n",
    "        inputs = np.array(inputs_list, ndmin = 2).T\n",
    "        \n",
    "        # signals into hidden layer\n",
    "        hidden_inputs = np.dot(self.Wih, inputs)\n",
    "        # signals emerging from hidden layer\n",
    "        hidden_outputs = self.activation_function(hidden_inputs)\n",
    "        \n",
    "        # signals into final output layer\n",
    "        final_inputs = np.dot(self.Who, hidden_outputs)\n",
    "        # signals emerging from final output layer\n",
    "        final_outputs = self.activation_function(final_inputs)\n",
    "        \n",
    "        return final_outputs"
   ]
  },
  {
   "cell_type": "markdown",
   "metadata": {},
   "source": [
    "# Training Neural Network with MNIST dataset"
   ]
  },
  {
   "cell_type": "code",
   "execution_count": 3,
   "metadata": {},
   "outputs": [
    {
     "data": {
      "text/plain": [
       "60000"
      ]
     },
     "execution_count": 3,
     "metadata": {},
     "output_type": "execute_result"
    }
   ],
   "source": [
    "# Load full training data\n",
    "train_data_file = open('D:/data/MNIST/mnist_train.csv', 'r')\n",
    "train_data_list = train_data_file.readlines()\n",
    "train_data_file.close()\n",
    "\n",
    "len(train_data_list)"
   ]
  },
  {
   "cell_type": "code",
   "execution_count": 4,
   "metadata": {},
   "outputs": [],
   "source": [
    "# create instance of Neural Network\n",
    "input_nodes = 784\n",
    "hidden_nodes = 100\n",
    "output_nodes = 10\n",
    "\n",
    "learning_rate = 0.2\n",
    "\n",
    "n = neuralNetwork(input_nodes, hidden_nodes, output_nodes, learning_rate)"
   ]
  },
  {
   "cell_type": "code",
   "execution_count": 5,
   "metadata": {},
   "outputs": [],
   "source": [
    "# epoch is the number of times the training data set is used for training\n",
    "epochs = 5\n",
    "\n",
    "# train the neural network\n",
    "for e in range(epochs):\n",
    "    for record in train_data_list:\n",
    "        all_values = record.split(',')\n",
    "        # scale and shift the inputs\n",
    "        inputs = (np.asfarray(all_values[1:]) /255*0.99) + 0.01 \n",
    "        \n",
    "        # create target output values (all equals to 0.01, except the desired label which is 0.99)\n",
    "        targets = np.zeros(output_nodes) + 0.01\n",
    "        targets[int(all_values[0])] = 0.99\n",
    "        n.train(inputs, targets)"
   ]
  },
  {
   "cell_type": "code",
   "execution_count": 6,
   "metadata": {},
   "outputs": [
    {
     "data": {
      "text/plain": [
       "10000"
      ]
     },
     "execution_count": 6,
     "metadata": {},
     "output_type": "execute_result"
    }
   ],
   "source": [
    "# load test data\n",
    "test_data_file = open('D:/data/MNIST/mnist_test.csv', 'r')\n",
    "test_data_list = test_data_file.readlines()\n",
    "test_data_file.close()\n",
    "\n",
    "len(test_data_list)"
   ]
  },
  {
   "cell_type": "code",
   "execution_count": 7,
   "metadata": {},
   "outputs": [
    {
     "name": "stdout",
     "output_type": "stream",
     "text": [
      "performance =  0.959\n"
     ]
    }
   ],
   "source": [
    "# testing the neural network\n",
    "scorecard = []\n",
    "\n",
    "for record in test_data_list:\n",
    "    all_values = record.split(',')\n",
    "    inputs = (np.asfarray(all_values[1:])/255*0.99) + 0.01\n",
    "    \n",
    "    # query the neural network to generate label\n",
    "    outputs = n.query(inputs)\n",
    "    label = np.argmax(outputs)\n",
    "    \n",
    "    correct_label = int(all_values[0])\n",
    "    if label == correct_label:\n",
    "        scorecard.append(1)\n",
    "    else:\n",
    "        scorecard.append(0)\n",
    "\n",
    "# calculate the performance score\n",
    "scorecard_array = np.array(scorecard)\n",
    "print('performance = ', scorecard_array.sum()/scorecard_array.size)"
   ]
  },
  {
   "cell_type": "markdown",
   "metadata": {},
   "source": [
    "# Find Optimal Learning Rate"
   ]
  },
  {
   "cell_type": "code",
   "execution_count": 8,
   "metadata": {},
   "outputs": [],
   "source": [
    "lr_list = [0.01, 0.1, 0.2, 0.3, 0.6, 0.9]\n",
    "lr_performance = []\n",
    "\n",
    "# train the neural network with different learning rate\n",
    "epochs = 5\n",
    "\n",
    "for lr in lr_list:\n",
    "    n = neuralNetwork(784, 100, 10, lr)\n",
    "    \n",
    "    for e in range(epochs):\n",
    "        for record in train_data_list:\n",
    "            all_values = record.split(',')\n",
    "            inputs = (np.asfarray(all_values[1:]) /255*0.99) + 0.01\n",
    "        \n",
    "            targets = np.zeros(output_nodes) + 0.01\n",
    "            targets[int(all_values[0])] = 0.99\n",
    "            n.train(inputs, targets)\n",
    "    \n",
    "    \n",
    "    # testing the neural network\n",
    "    scorecard = []\n",
    "    \n",
    "    for record in test_data_list:\n",
    "        all_values = record.split(',')\n",
    "        inputs = (np.asfarray(all_values[1:])/255*0.99) + 0.01\n",
    "    \n",
    "        # query the neural network to generate label\n",
    "        outputs = n.query(inputs)\n",
    "        label = np.argmax(outputs)\n",
    "    \n",
    "        correct_label = int(all_values[0])\n",
    "        if label == correct_label:\n",
    "            scorecard.append(1)\n",
    "        else:\n",
    "            scorecard.append(0)\n",
    "\n",
    "    # calculate the performance score\n",
    "    scorecard_array = np.array(scorecard)\n",
    "    performance = scorecard_array.sum()/scorecard_array.size\n",
    "    lr_performance.append(performance)"
   ]
  },
  {
   "cell_type": "code",
   "execution_count": 9,
   "metadata": {
    "scrolled": true
   },
   "outputs": [
    {
     "data": {
      "image/png": "[encoded data removed]",
      "text/plain": [
       "<Figure size 432x288 with 1 Axes>"
      ]
     },
     "metadata": {
      "needs_background": "light"
     },
     "output_type": "display_data"
    }
   ],
   "source": [
    "Data = {'Learning Rate': lr_list,\n",
    "        'Performance': lr_performance\n",
    "       }\n",
    "  \n",
    "df = pd.DataFrame(Data,columns=['Learning Rate','Performance'])\n",
    "  \n",
    "plt.plot(df['Learning Rate'], df['Performance'], color='blue', marker='8')\n",
    "plt.title('Performance and Learning Rate', fontsize=14, y=1.05)\n",
    "plt.xlabel('learning rate', fontsize=10)\n",
    "plt.ylabel('performance', fontsize=10)\n",
    "plt.xticks(np.arange(0,1,0.1))\n",
    "plt.yticks(np.arange(0.8,0.98,0.02))\n",
    "plt.grid(True, axis='y')\n",
    "plt.show()"
   ]
  },
  {
   "cell_type": "markdown",
   "metadata": {},
   "source": [
    "# Change Number of Hidden Nodes"
   ]
  },
  {
   "cell_type": "code",
   "execution_count": 10,
   "metadata": {},
   "outputs": [],
   "source": [
    "node_list = [1, 10, 50, 100, 200, 400, 600]\n",
    "node_performance = []\n",
    "\n",
    "# train the neural network with different numbers of hidden nodes\n",
    "epochs = 5\n",
    "\n",
    "for nodes in node_list:\n",
    "    n = neuralNetwork(784, nodes, 10, 0.2)\n",
    "    \n",
    "    for e in range(epochs):\n",
    "        for record in train_data_list:\n",
    "            all_values = record.split(',')\n",
    "            inputs = (np.asfarray(all_values[1:]) /255*0.99) + 0.01\n",
    "        \n",
    "            targets = np.zeros(output_nodes) + 0.01\n",
    "            targets[int(all_values[0])] = 0.99\n",
    "            n.train(inputs, targets)\n",
    "    \n",
    "    \n",
    "    # testing the neural network\n",
    "    scorecard = []\n",
    "    \n",
    "    for record in test_data_list:\n",
    "        all_values = record.split(',')\n",
    "        inputs = (np.asfarray(all_values[1:])/255*0.99) + 0.01\n",
    "    \n",
    "        # query the neural network to generate label\n",
    "        outputs = n.query(inputs)\n",
    "        label = np.argmax(outputs)\n",
    "    \n",
    "        correct_label = int(all_values[0])\n",
    "        if label == correct_label:\n",
    "            scorecard.append(1)\n",
    "        else:\n",
    "            scorecard.append(0)\n",
    "\n",
    "    # calculate the performance score\n",
    "    scorecard_array = np.array(scorecard)\n",
    "    performance = scorecard_array.sum()/scorecard_array.size\n",
    "    node_performance.append(performance)"
   ]
  },
  {
   "cell_type": "code",
   "execution_count": 27,
   "metadata": {},
   "outputs": [
    {
     "data": {
      "image/png": "[encoded data removed]",
      "text/plain": [
       "<Figure size 432x288 with 1 Axes>"
      ]
     },
     "metadata": {
      "needs_background": "light"
     },
     "output_type": "display_data"
    }
   ],
   "source": [
    "Data = {'Hidden Nodes': node_list,\n",
    "        'Performance': node_performance\n",
    "       }\n",
    "  \n",
    "df = pd.DataFrame(Data,columns=['Hidden Nodes','Performance'])\n",
    "  \n",
    "plt.plot(df['Hidden Nodes'], df['Performance'], color='blue', marker='8')\n",
    "plt.title('Performance and Hidden Nodes', fontsize=14, y=1.05)\n",
    "plt.xlabel('number of hidden nodes', fontsize=10)\n",
    "plt.ylabel('performance', fontsize=10)\n",
    "plt.xticks(np.arange(0,650,100))\n",
    "plt.yticks(np.arange(0.1,1.1,0.1))\n",
    "plt.grid(True, axis='y')\n",
    "plt.show()"
   ]
  },
  {
   "cell_type": "markdown",
   "metadata": {},
   "source": [
    "# Experiment with Different Epoch"
   ]
  },
  {
   "cell_type": "code",
   "execution_count": 12,
   "metadata": {},
   "outputs": [],
   "source": [
    "epoch_list = [2, 4, 5, 6, 7, 10, 20]\n",
    "epoch_performance = []\n",
    "\n",
    "# train the neural network with different epoch\n",
    "n = neuralNetwork(784, 100, 10, 0.2)\n",
    "\n",
    "for epochs in epoch_list:\n",
    "    for e in range(epochs):\n",
    "        for record in train_data_list:\n",
    "            all_values = record.split(',')\n",
    "            inputs = (np.asfarray(all_values[1:]) /255*0.99) + 0.01\n",
    "        \n",
    "            targets = np.zeros(output_nodes) + 0.01\n",
    "            targets[int(all_values[0])] = 0.99\n",
    "            n.train(inputs, targets)\n",
    "    \n",
    "    \n",
    "    # testing the neural network\n",
    "    scorecard = []\n",
    "    \n",
    "    for record in test_data_list:\n",
    "        all_values = record.split(',')\n",
    "        inputs = (np.asfarray(all_values[1:])/255*0.99) + 0.01\n",
    "    \n",
    "        # query the neural network to generate label\n",
    "        outputs = n.query(inputs)\n",
    "        label = np.argmax(outputs)\n",
    "    \n",
    "        correct_label = int(all_values[0])\n",
    "        if label == correct_label:\n",
    "            scorecard.append(1)\n",
    "        else:\n",
    "            scorecard.append(0)\n",
    "\n",
    "    # calculate the performance score\n",
    "    scorecard_array = np.array(scorecard)\n",
    "    performance = scorecard_array.sum()/scorecard_array.size\n",
    "    epoch_performance.append(performance)"
   ]
  },
  {
   "cell_type": "code",
   "execution_count": 21,
   "metadata": {},
   "outputs": [
    {
     "data": {
      "image/png": "[encoded data removed]",
      "text/plain": [
       "<Figure size 432x288 with 1 Axes>"
      ]
     },
     "metadata": {
      "needs_background": "light"
     },
     "output_type": "display_data"
    }
   ],
   "source": [
    "Data = {'Epochs': epoch_list,\n",
    "        'Performance': epoch_performance\n",
    "       }\n",
    "  \n",
    "df = pd.DataFrame(Data,columns=['Epochs','Performance'])\n",
    "  \n",
    "plt.plot(df['Epochs'], df['Performance'], color='blue', marker='8')\n",
    "plt.title('Performance and Epoch', fontsize=14, y=1.05)\n",
    "plt.xlabel('number of epochs', fontsize=10)\n",
    "plt.ylabel('performance', fontsize=10)\n",
    "plt.xticks(np.arange(2,21,2))\n",
    "plt.yticks(np.arange(0.94,0.96,0.002))\n",
    "plt.grid(True, axis='y')\n",
    "plt.show()"
   ]
  }
 ],
 "metadata": {
  "kernelspec": {
   "display_name": "Python 3",
   "language": "python",
   "name": "python3"
  },
  "language_info": {
   "codemirror_mode": {
    "name": "ipython",
    "version": 3
   },
   "file_extension": ".py",
   "mimetype": "text/x-python",
   "name": "python",
   "nbconvert_exporter": "python",
   "pygments_lexer": "ipython3",
   "version": "3.7.6"
  }
 },
 "nbformat": 4,
 "nbformat_minor": 4
}
